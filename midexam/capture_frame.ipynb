{
 "cells": [
  {
   "cell_type": "code",
   "execution_count": 5,
   "metadata": {},
   "outputs": [
    {
     "ename": "IndentationError",
     "evalue": "unexpected indent (<ipython-input-5-5de6f08ddd3e>, line 30)",
     "output_type": "error",
     "traceback": [
      "\u001b[1;36m  File \u001b[1;32m\"<ipython-input-5-5de6f08ddd3e>\"\u001b[1;36m, line \u001b[1;32m30\u001b[0m\n\u001b[1;33m    cv2.imwrite(test_name,image)\u001b[0m\n\u001b[1;37m    ^\u001b[0m\n\u001b[1;31mIndentationError\u001b[0m\u001b[1;31m:\u001b[0m unexpected indent\n"
     ]
    }
   ],
   "source": [
    "#!/usr/bin/env python2\n",
    "# -*- coding: utf-8 -*-\n",
    "\"\"\"\n",
    "Created on Tue Nov 22 15:07:09 2016\n",
    "\n",
    "@author: kyleguan\n",
    "A simple script to capture frames from a video clip\n",
    "\n",
    "\"\"\"\n",
    "\n",
    "import cv2\n",
    "import os\n",
    "\n",
    "video_name='project_video.mp4'\n",
    "start_time=12000\n",
    "end_time=16000\n",
    "step=200\n",
    "\n",
    "dir_name ='problem/'\n",
    "if not os.path.exists(dir_name):\n",
    "    os.makedirs(dir_name)\n",
    "\n",
    "vidcap=cv2.VideoCapture(video_name)\n",
    "for i, time in enumerate(range(start_time, end_time, step)):\n",
    "    vidcap.set(cv2.CAP_PROP_POS_MSEC, time)\n",
    "    success, image=vidcap.read()\n",
    "    if success:\n",
    "       # Need to create the directory ( 'highway') first \n",
    "       test_name='problem/frame{:03d}.jpg'.format(i+1)\n",
    "        cv2.imwrite(test_name,image)\n",
    "   "
   ]
  },
  {
   "cell_type": "code",
   "execution_count": null,
   "metadata": {},
   "outputs": [],
   "source": []
  },
  {
   "cell_type": "code",
   "execution_count": null,
   "metadata": {},
   "outputs": [],
   "source": []
  }
 ],
 "metadata": {
  "kernelspec": {
   "display_name": "Python 3",
   "language": "python",
   "name": "python3"
  },
  "language_info": {
   "codemirror_mode": {
    "name": "ipython",
    "version": 3
   },
   "file_extension": ".py",
   "mimetype": "text/x-python",
   "name": "python",
   "nbconvert_exporter": "python",
   "pygments_lexer": "ipython3",
   "version": "3.7.3"
  }
 },
 "nbformat": 4,
 "nbformat_minor": 2
}
