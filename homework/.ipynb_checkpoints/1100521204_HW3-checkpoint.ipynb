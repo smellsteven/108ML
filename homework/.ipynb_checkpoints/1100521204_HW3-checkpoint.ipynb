{
 "cells": [
  {
   "cell_type": "markdown",
   "metadata": {},
   "source": [
    "# Homework3"
   ]
  },
  {
   "cell_type": "markdown",
   "metadata": {},
   "source": [
    "1. 身體質量指數(Body mass index, BMI)是由體重(公斤)除以身高(公尺)的平方，BMI 的分級如下。請撰寫程式由使用者輸入其體重(公斤)及身高(公分)，然後程式印出分級。(分級方式請參閱簡報)"
   ]
  },
  {
   "cell_type": "code",
   "execution_count": 4,
   "metadata": {},
   "outputs": [
    {
     "name": "stdout",
     "output_type": "stream",
     "text": [
      "請輸入體重(公斤): 80\n",
      "請輸入身高(公分): 100\n",
      "過度肥胖\n"
     ]
    }
   ],
   "source": [
    "weight = eval(input(\"請輸入體重(公斤): \"))\n",
    "height = eval(input(\"請輸入身高(公分): \"))\n",
    "a = weight\n",
    "b = height / 100\n",
    "bmi = a / ( b ** 2 )\n",
    "if bmi < 18.5:\n",
    "    print(\"體重過輕\")\n",
    "elif bmi>=18.5 and bmi < 24:\n",
    "    print(\"正常範圍\")\n",
    "elif bmi >=24 and bmi < 27:\n",
    "    print(\"輕度肥胖\")\n",
    "elif bmi >=30 and bmi < 35:\n",
    "    print(\"中度肥胖\")\n",
    "else:\n",
    "    print(\"過度肥胖\")"
   ]
  },
  {
   "cell_type": "markdown",
   "metadata": {},
   "source": [
    "2. 閏年(Leap year)比平年(365 天)多一天，亦即 366 天。判斷閏年的方式如下(任一條件符合均可)：能被 4 整除但不能被 100 整除者/能被 400 整除者。請撰寫一程式，由使用者輸入西元年，程式判斷是否為閏年。"
   ]
  },
  {
   "cell_type": "code",
   "execution_count": 17,
   "metadata": {},
   "outputs": [
    {
     "name": "stdout",
     "output_type": "stream",
     "text": [
      "請輸入西元年份：2014\n",
      "平年\n"
     ]
    }
   ],
   "source": [
    "Year = input(\"請輸入西元年份：\")\n",
    "if ( int(Year) % 400 == 0) :\n",
    "        print(\"閏年\")\n",
    "elif( int(Year) % 100 == 0) :\n",
    "        print(\"平年\")\n",
    "elif ( int(Year) % 4 == 0) :\n",
    "        print(\"閏年\")\n",
    "else :\n",
    "        print(\"平年\")"
   ]
  },
  {
   "cell_type": "markdown",
   "metadata": {},
   "source": [
    "3. 請撰寫一個程式，接受使用者輸入日期，格式為 mm/dd/yyyy (month, day, year)，程式判斷該日期是否正確。例如：09/31/2011 錯誤，因為 9 月只有 30 天；02/29/2011 錯誤，因為 2011 並非閏年。"
   ]
  },
  {
   "cell_type": "code",
   "execution_count": 5,
   "metadata": {},
   "outputs": [
    {
     "ename": "NameError",
     "evalue": "name '研究中' is not defined",
     "output_type": "error",
     "traceback": [
      "\u001b[1;31m---------------------------------------------------------------------------\u001b[0m",
      "\u001b[1;31mNameError\u001b[0m                                 Traceback (most recent call last)",
      "\u001b[1;32m<ipython-input-5-4f1d90eb63ea>\u001b[0m in \u001b[0;36m<module>\u001b[1;34m\u001b[0m\n\u001b[1;32m----> 1\u001b[1;33m \u001b[0m研究中\u001b[0m\u001b[1;33m\u001b[0m\u001b[1;33m\u001b[0m\u001b[0m\n\u001b[0m",
      "\u001b[1;31mNameError\u001b[0m: name '研究中' is not defined"
     ]
    }
   ],
   "source": [
    "研究中"
   ]
  },
  {
   "cell_type": "markdown",
   "metadata": {},
   "source": [
    "4. 如果任何大於 2 的正整數 n 為質數，則任何整數 m，2 ≤ m ≤ √𝑛 ，都無法整除 n。請撰寫一程式，由使用者輸入 n，程式判斷其是否為質數。"
   ]
  },
  {
   "cell_type": "code",
   "execution_count": null,
   "metadata": {},
   "outputs": [],
   "source": [
    "n = int(input('Input a number: ')) \n",
    " for i in range(2, n):\n",
    "        if n % i == 0:\n",
    "            print(\"false\")\n",
    "        else:\n",
    "            print(\"true\")\n",
    "        "
   ]
  },
  {
   "cell_type": "markdown",
   "metadata": {},
   "source": [
    "5. 修改上述程式，列出所有小於或等於 n 的質數。"
   ]
  },
  {
   "cell_type": "code",
   "execution_count": 1,
   "metadata": {},
   "outputs": [
    {
     "name": "stdout",
     "output_type": "stream",
     "text": [
      "Input a number: 5\n",
      "2\n",
      "3\n",
      "5\n"
     ]
    }
   ],
   "source": [
    "def is_prime(n):\n",
    "    for i in range(2, n):\n",
    "        if n % i == 0:  \n",
    "            return False\n",
    "    return True     \n",
    "\n",
    "n = int(input('Input a number: '))  \n",
    "\n",
    "for i in range(2, n + 1):   \n",
    "    i_is_prime = is_prime(i)   \n",
    "    if i_is_prime:             \n",
    "        print(i)"
   ]
  },
  {
   "cell_type": "code",
   "execution_count": null,
   "metadata": {},
   "outputs": [],
   "source": []
  },
  {
   "cell_type": "code",
   "execution_count": null,
   "metadata": {},
   "outputs": [],
   "source": []
  }
 ],
 "metadata": {
  "kernelspec": {
   "display_name": "Python 3",
   "language": "python",
   "name": "python3"
  },
  "language_info": {
   "codemirror_mode": {
    "name": "ipython",
    "version": 3
   },
   "file_extension": ".py",
   "mimetype": "text/x-python",
   "name": "python",
   "nbconvert_exporter": "python",
   "pygments_lexer": "ipython3",
   "version": "3.7.3"
  }
 },
 "nbformat": 4,
 "nbformat_minor": 2
}
